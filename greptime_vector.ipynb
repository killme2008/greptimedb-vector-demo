{
 "cells": [
  {
   "cell_type": "markdown",
   "id": "1b218d99-88cb-48e7-aa98-31fa047a41eb",
   "metadata": {},
   "source": [
    "First, install the necessary Python dependencies:"
   ]
  },
  {
   "cell_type": "code",
   "execution_count": null,
   "id": "658241e3-6620-45a2-a0cc-ee78e38b6793",
   "metadata": {},
   "outputs": [],
   "source": [
    "import sys\n",
    "!{sys.executable} -m pip install wget --quiet\n",
    "!{sys.executable} -m pip install openai==1.3.3 --quiet\n",
    "!{sys.executable} -m pip install sentence-transformers --quiet\n",
    "!{sys.executable} -m pip install pandas --quiet\n",
    "!{sys.executable} -m pip install sqlalchemy --quiet\n",
    "!{sys.executable} -m pip install mysql-connector-python --quiet"
   ]
  },
  {
   "cell_type": "markdown",
   "id": "85383b32-97ab-4cc4-89f8-3fd7a770807f",
   "metadata": {},
   "source": [
    "Among these, `sentence-transformers` is used for text vectorization, while `sqlalchemy` and `mysql-connector-python` are used for connecting to and performing read/write operations with GreptimeDB. The others are utility libraries."
   ]
  },
  {
   "cell_type": "markdown",
   "id": "de59bf07-b725-484e-a303-82297e5533b5",
   "metadata": {},
   "source": [
    "We're using news articles from the AG corpus as our dataset, containing 2000 records in total.\n",
    "\n",
    "First, import the necessary dependencies:"
   ]
  },
  {
   "cell_type": "code",
   "execution_count": null,
   "id": "199ee273-3845-4934-9e79-22abef578862",
   "metadata": {},
   "outputs": [],
   "source": [
    "import json  \n",
    "import os  \n",
    "import pandas as pd  \n",
    "import wget  \n",
    "from sentence_transformers import SentenceTransformer  \n",
    "import sqlalchemy as sa  \n",
    "from sqlalchemy import create_engine"
   ]
  },
  {
   "cell_type": "markdown",
   "id": "15ad9816-2de7-44eb-bfb2-94407733a1a0",
   "metadata": {},
   "source": [
    "Download the model:"
   ]
  },
  {
   "cell_type": "code",
   "execution_count": null,
   "id": "c5b87139-8492-42d1-b911-381a8d0bf8ef",
   "metadata": {},
   "outputs": [],
   "source": [
    "model = SentenceTransformer('flax-sentence-embeddings/all_datasets_v3_mpnet-base')"
   ]
  },
  {
   "cell_type": "markdown",
   "id": "379a042a-d4ff-49d5-9396-3d08cad27b26",
   "metadata": {},
   "source": [
    "Download and parse the dataset:"
   ]
  },
  {
   "cell_type": "code",
   "execution_count": null,
   "id": "c972c23d-7062-4310-9ef7-a9a91ada373d",
   "metadata": {},
   "outputs": [],
   "source": [
    "cvs_file_path = 'https://raw.githubusercontent.com/openai/openai-cookbook/main/examples/data/AG_news_samples.csv'  \n",
    "file_path = 'AG_news_samples.csv'  \n",
    "\n",
    "if not os.path.exists(file_path):  \n",
    "    wget.download(cvs_file_path, file_path)  \n",
    "    print('File downloaded successfully.')  \n",
    "else:  \n",
    "    print('File already exists in the local file system.')  \n",
    "\n",
    "df = pd.read_csv('AG_news_samples.csv')  \n",
    "data = df.to_dict(orient='records')"
   ]
  },
  {
   "cell_type": "markdown",
   "id": "3d5719d1-1f84-4cf1-ab91-312744a98d90",
   "metadata": {},
   "source": [
    "Assuming you've correctly installed the standalone version of GreptimeDB following the [installation guide](https://docs.greptime.com/getting-started/installation/greptimedb-standalone/) (or you can use [GreptimeCloud](https://greptime.com/product/cloud) hosted service to test this example), connect to the database via MySQL client or open Dashboard to create the table:"
   ]
  },
  {
   "cell_type": "code",
   "execution_count": null,
   "id": "4b6de6f0-57b2-422a-b5e9-5661f9c56809",
   "metadata": {},
   "outputs": [],
   "source": [
    "CREATE TABLE IF NOT EXISTS news_articles (  \n",
    "    title STRING FULLTEXT,  \n",
    "    description STRING FULLTEXT,  \n",
    "    genre STRING,  \n",
    "    embedding VECTOR(768),  \n",
    "    ts timestamp default current_timestamp(),  \n",
    "    PRIMARY KEY(title),  \n",
    "    TIME INDEX(ts)  \n",
    ");"
   ]
  },
  {
   "cell_type": "markdown",
   "id": "46f37b2a-7dd5-4f5c-a1de-1c30477ca006",
   "metadata": {},
   "source": [
    "Where:\n",
    "\n",
    "* `title`, `description`, and `genre` correspond to the article's title, description, and type information, all `STRING` type with fulltext indexing for title and description.\n",
    "* `embedding` is set as a 768-dimensional VECTOR type.\n",
    " \n",
    "GreptimeDB's table model requires a timestamp column (called time index); since our test dataset doesn't have article creation times, we set ts default value to `current_timestamp()`."
   ]
  },
  {
   "cell_type": "markdown",
   "id": "2ce99210-2b77-4f41-9ea4-5d99b3182184",
   "metadata": {},
   "source": [
    "Next, let's create embeddings for the dataset's descriptions:"
   ]
  },
  {
   "cell_type": "code",
   "execution_count": null,
   "id": "0e9b0876-26c7-4d57-ba08-5fc18dc135c0",
   "metadata": {},
   "outputs": [],
   "source": [
    "descriptions = [row['description'] for row in data]  \n",
    "all_embeddings = model.encode(descriptions)"
   ]
  },
  {
   "cell_type": "markdown",
   "id": "a6040762-e148-4d28-bea4-28ba7c7eee72",
   "metadata": {},
   "source": [
    "When using SQL to insert vector data types in GreptimeDB, vectors need to be converted to strings. Here's a function to stringify vector arrays and process the dataset:"
   ]
  },
  {
   "cell_type": "code",
   "execution_count": null,
   "id": "795daf64-8ede-4842-929c-7e74b29ac102",
   "metadata": {},
   "outputs": [],
   "source": [
    "def embedding_s(embedding):  \n",
    "    return f\"[{','.join(map(str, embedding))}]\"  \n",
    "    \n",
    "for row, embedding in zip(data, all_embeddings):  \n",
    "    row['embedding'] = embedding_s(embedding)"
   ]
  },
  {
   "cell_type": "markdown",
   "id": "59ec13b6-c448-4eb9-81b6-74045c73fe86",
   "metadata": {},
   "source": [
    "Connect to the database:"
   ]
  },
  {
   "cell_type": "code",
   "execution_count": null,
   "id": "e3fa3598-7d1f-4fb5-b113-3421efe77450",
   "metadata": {},
   "outputs": [],
   "source": [
    "connection_string = \"mysql+mysqlconnector://root:@0.0.0.0:4002/public\"  \n",
    "conn = create_engine(connection_string, echo=True).connect()"
   ]
  },
  {
   "cell_type": "code",
   "execution_count": null,
   "id": "66f0ac62-d309-4ca4-ba2f-d958aae6974d",
   "metadata": {},
   "outputs": [],
   "source": [
    "Write data:"
   ]
  },
  {
   "cell_type": "code",
   "execution_count": null,
   "id": "7b9602c1-93e6-4ac7-a7c0-ca5f518d0c94",
   "metadata": {},
   "outputs": [],
   "source": [
    "statement = sa.text('''  \n",
    "    INSERT INTO news_articles (  \n",
    "        title,  \n",
    "        description,  \n",
    "        genre,  \n",
    "        embedding  \n",
    "    )  \n",
    "    VALUES (  \n",
    "        :title,  \n",
    "        :description,  \n",
    "        :label,  \n",
    "        :embedding  \n",
    "    )  \n",
    "''')  \n",
    "\n",
    "for i in range(0, len(data), 100):  \n",
    "    conn.execute(statement, data[i:i + 100])"
   ]
  },
  {
   "cell_type": "markdown",
   "id": "ddfdedf4-5a3e-42f8-a1b8-21b696049cbf",
   "metadata": {},
   "source": [
    "We're writing data to GreptimeDB in batches of 100. If everything goes well, we can try a query in MySQL client or dashboard:"
   ]
  },
  {
   "cell_type": "markdown",
   "id": "1783801e-0c8f-4a4e-ac3e-274f832ff1a1",
   "metadata": {},
   "source": [
    "```sql\n",
    "SELECT title, description, genre, vec_to_string(embedding)   \n",
    "   FROM news_articles LIMIT 1\\G;\n",
    "```   "
   ]
  },
  {
   "cell_type": "markdown",
   "id": "f7d747f3-6be0-4b06-868c-a1d1d393b4a7",
   "metadata": {},
   "source": [
    "Let's try vector search to find articles with similar semantics:"
   ]
  },
  {
   "cell_type": "code",
   "execution_count": null,
   "id": "bc36dbe9-d63b-4077-992f-11dbbd54caea",
   "metadata": {},
   "outputs": [],
   "source": [
    "search_query = 'China Sports'  \n",
    "search_embedding = embedding_s(model.encode(search_query))  \n",
    "\n",
    "query_statement = sa.text('''  \n",
    "    SELECT  \n",
    "        title,  \n",
    "        description,  \n",
    "        genre,  \n",
    "        vec_dot_product(embedding, :embedding) AS score  \n",
    "    FROM news_articles  \n",
    "    ORDER BY score DESC  \n",
    "    LIMIT 10  \n",
    "''')  \n",
    "\n",
    "results = pd.DataFrame(conn.execute(query_statement, dict(embedding=search_embedding)))  \n",
    "print(results)"
   ]
  },
  {
   "cell_type": "markdown",
   "id": "757754a9-bfec-44f9-b2e9-865f063576af",
   "metadata": {},
   "source": [
    "Here, we first created an embedding for the search keyword, then used the `vec_dot_product` function to calculate the dot product of vectors as a similarity score and sort by it, limiting output to 10 results.\n",
    "\n",
    "For more vector functions, refer to the documentation: https://docs.greptime.com/nightly/reference/sql/functions/vector/\n",
    "\n",
    "Let's also try matching results based on full-text index:\n"
   ]
  },
  {
   "cell_type": "code",
   "execution_count": null,
   "id": "2e889aa9-a69c-47b6-a3f0-aff52c9f10af",
   "metadata": {},
   "outputs": [],
   "source": [
    "search_query = 'China Sports'  \n",
    "query_statement = sa.text('''  \n",
    "    SELECT  \n",
    "        title,  \n",
    "        description,  \n",
    "        genre  \n",
    "    FROM news_articles  \n",
    "    WHERE matches(description, :search_query)  \n",
    "    LIMIT 10  \n",
    "''')  \n",
    "\n",
    "results = pd.DataFrame(conn.execute(query_statement, dict(search_query=search_query)))  \n",
    "print(results)"
   ]
  },
  {
   "cell_type": "markdown",
   "id": "ce802eb3-68d7-4590-ae8f-8dd35b43cc33",
   "metadata": {},
   "source": [
    "The results are different - these are text-based matches where the description contains either 'China' or 'Sports'.\""
   ]
  }
 ],
 "metadata": {
  "kernelspec": {
   "display_name": "Python 3 (ipykernel)",
   "language": "python",
   "name": "python3"
  },
  "language_info": {
   "codemirror_mode": {
    "name": "ipython",
    "version": 3
   },
   "file_extension": ".py",
   "mimetype": "text/x-python",
   "name": "python",
   "nbconvert_exporter": "python",
   "pygments_lexer": "ipython3",
   "version": "3.11.9"
  }
 },
 "nbformat": 4,
 "nbformat_minor": 5
}
